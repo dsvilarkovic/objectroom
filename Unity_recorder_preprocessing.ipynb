{
 "cells": [
  {
   "cell_type": "code",
   "execution_count": 12,
   "id": "f8d8cde6",
   "metadata": {},
   "outputs": [],
   "source": [
    "import numpy as np\n",
    "\n",
    "from scipy import misc\n",
    "import glob\n",
    "import imageio\n",
    "import matplotlib.pyplot as plt\n",
    "# for image_path in glob.glob(\"*.png\"):\n",
    "#     image = misc.imread(image_path)\n",
    "#     print image.shape\n",
    "#     print image.dtype\n",
    "    "
   ]
  },
  {
   "cell_type": "code",
   "execution_count": null,
   "id": "297a171f",
   "metadata": {},
   "outputs": [],
   "source": [
    "!ls depth_map\n"
   ]
  },
  {
   "cell_type": "code",
   "execution_count": 9,
   "id": "c34b2eda",
   "metadata": {},
   "outputs": [],
   "source": [
    "image = imageio.imread(\"full_12k_samples_dataset_3_objects/depth_map/aov_image_0016.png\")"
   ]
  },
  {
   "cell_type": "code",
   "execution_count": 10,
   "id": "cc4aff8b",
   "metadata": {},
   "outputs": [
    {
     "data": {
      "text/plain": [
       "(64, 64, 4)"
      ]
     },
     "execution_count": 10,
     "metadata": {},
     "output_type": "execute_result"
    }
   ],
   "source": [
    "image.shape"
   ]
  },
  {
   "cell_type": "code",
   "execution_count": 88,
   "id": "c2cd765c",
   "metadata": {},
   "outputs": [
    {
     "data": {
      "text/plain": [
       "124"
      ]
     },
     "execution_count": 88,
     "metadata": {},
     "output_type": "execute_result"
    }
   ],
   "source": [
    "np.max(image[:,:,0])"
   ]
  },
  {
   "cell_type": "code",
   "execution_count": 89,
   "id": "0eb57da0",
   "metadata": {},
   "outputs": [
    {
     "data": {
      "image/png": "[encoded data removed]",
      "text/plain": [
       "<Figure size 432x288 with 1 Axes>"
      ]
     },
     "metadata": {
      "needs_background": "light"
     },
     "output_type": "display_data"
    }
   ],
   "source": [
    "import matplotlib.pyplot as plt\n",
    "\n",
    "# plt.imshow(image[:,:,0], cmap='gray', vmin=0, vmax=255)\n",
    "plt.imshow(image[:,:,0], cmap='gray', vmin=0, vmax=127)\n",
    "plt.show()"
   ]
  },
  {
   "cell_type": "code",
   "execution_count": 90,
   "id": "88376f76",
   "metadata": {},
   "outputs": [
    {
     "data": {
      "text/plain": [
       "0.9763779527559056"
      ]
     },
     "execution_count": 90,
     "metadata": {},
     "output_type": "execute_result"
    }
   ],
   "source": [
    "np.max(image[:,:,0]) / 127.0"
   ]
  },
  {
   "cell_type": "code",
   "execution_count": 91,
   "id": "4fd1c901",
   "metadata": {},
   "outputs": [],
   "source": [
    "near = 0.8\n",
    "far = 15"
   ]
  },
  {
   "cell_type": "code",
   "execution_count": 92,
   "id": "a07ab380",
   "metadata": {},
   "outputs": [],
   "source": [
    "# inverse of perspective projection https://en.wikipedia.org/wiki/Z-buffering#Mathematics\n",
    "k1 = (far + near) / (far - near)\n",
    "k2 = (- 2.0 * far * near) / (far - near)"
   ]
  },
  {
   "cell_type": "code",
   "execution_count": 93,
   "id": "53d0a9b5",
   "metadata": {},
   "outputs": [],
   "source": [
    "res = k2 / ((image[:,:,0] / np.max(image[:,:,0])) - k1)  "
   ]
  },
  {
   "cell_type": "code",
   "execution_count": 94,
   "id": "b6cf355d",
   "metadata": {},
   "outputs": [
    {
     "data": {
      "text/plain": [
       "(array([1233,  545,  468,  576,  510,  252,  128,  128,  128,  128]),\n",
       " array([ 1.51898734,  2.86708861,  4.21518987,  5.56329114,  6.91139241,\n",
       "         8.25949367,  9.60759494, 10.9556962 , 12.30379747, 13.65189873,\n",
       "        15.        ]))"
      ]
     },
     "execution_count": 94,
     "metadata": {},
     "output_type": "execute_result"
    }
   ],
   "source": [
    "np.histogram(res)"
   ]
  },
  {
   "cell_type": "code",
   "execution_count": 95,
   "id": "6c5e0f41",
   "metadata": {},
   "outputs": [
    {
     "data": {
      "text/plain": [
       "14.999999999999993"
      ]
     },
     "execution_count": 95,
     "metadata": {},
     "output_type": "execute_result"
    }
   ],
   "source": [
    "np.max(res)\n",
    "\n",
    "#6.883468834688346 with 127.0 "
   ]
  },
  {
   "cell_type": "code",
   "execution_count": 96,
   "id": "2b35da59",
   "metadata": {},
   "outputs": [],
   "source": [
    "# use np.max of each image to scale"
   ]
  },
  {
   "cell_type": "code",
   "execution_count": 97,
   "id": "8b77c74d",
   "metadata": {},
   "outputs": [],
   "source": [
    "near = 0.8\n",
    "far = 15\n",
    "k1 = (far + near) / (far - near)\n",
    "k2 = (- 2.0 * far * near) / (far - near)\n",
    "\n",
    "\n",
    "def get_depth_images():\n",
    "    depth_np_images = []\n",
    "\n",
    "    for image_path in glob.glob(\"depth_map/*.png\"):\n",
    "        image = imageio.imread(image_path)\n",
    "\n",
    "        divisor = np.max(image[:,:,0]) if np.max(image[:,:,0]) != 0 else 127.0 \n",
    "        res = k2 / ((image[:,:,0] / divisor) - k1)  \n",
    "\n",
    "        np.save(image_path.split(\".\")[0], res)\n",
    "\n",
    "        depth_np_images.append(res)\n",
    "        \n",
    "    return depth_np_images\n",
    "        \n",
    "depth_np_images = get_depth_images()"
   ]
  },
  {
   "cell_type": "code",
   "execution_count": null,
   "id": "a8cc7cd5",
   "metadata": {},
   "outputs": [],
   "source": [
    "!ls depth_map\n"
   ]
  },
  {
   "cell_type": "code",
   "execution_count": null,
   "id": "cb473339",
   "metadata": {},
   "outputs": [],
   "source": [
    "for item in depth_np_images:\n",
    "    print(item.shape)\n",
    "    print(np.max(item))"
   ]
  },
  {
   "cell_type": "code",
   "execution_count": 100,
   "id": "1f8cae4a",
   "metadata": {},
   "outputs": [
    {
     "data": {
      "text/plain": [
       "(735, 64, 64)"
      ]
     },
     "execution_count": 100,
     "metadata": {},
     "output_type": "execute_result"
    }
   ],
   "source": [
    "dim = np.array(depth_np_images).shape\n",
    "\n",
    "dim"
   ]
  },
  {
   "cell_type": "code",
   "execution_count": null,
   "id": "7172a619",
   "metadata": {},
   "outputs": [],
   "source": []
  },
  {
   "cell_type": "markdown",
   "id": "95257d02",
   "metadata": {},
   "source": [
    "## Getting Instance segmentation"
   ]
  },
  {
   "cell_type": "markdown",
   "id": "fc0b9dfa",
   "metadata": {},
   "source": [
    "### Since we only need per object instance segmentation, we are going to compare per object whether depth map and instance segmentation overlap.\n",
    "\n",
    "### EDIT: this is solved by GameView fix\n"
   ]
  },
  {
   "cell_type": "code",
   "execution_count": 5,
   "id": "9f6230b7",
   "metadata": {},
   "outputs": [
    {
     "name": "stdout",
     "output_type": "stream",
     "text": [
      "Dataset294cada5-594a-427e-bd62-4bfea69756ba  depth_map\tinstances  logs  rgb\n"
     ]
    }
   ],
   "source": [
    "!ls full_12k_samples_dataset_3_objects"
   ]
  },
  {
   "cell_type": "code",
   "execution_count": 6,
   "id": "94fa4ec4",
   "metadata": {},
   "outputs": [],
   "source": [
    "instance_num = 623\n",
    "instance_image = imageio.imread(f'full_12k_samples_dataset_3_objects/instances/Instance_{instance_num}.png')"
   ]
  },
  {
   "cell_type": "code",
   "execution_count": 49,
   "id": "a88d7ea1",
   "metadata": {},
   "outputs": [
    {
     "data": {
      "text/plain": [
       "255"
      ]
     },
     "execution_count": 49,
     "metadata": {},
     "output_type": "execute_result"
    }
   ],
   "source": [
    "np.max(image)"
   ]
  },
  {
   "cell_type": "code",
   "execution_count": 70,
   "id": "d4fcd191",
   "metadata": {},
   "outputs": [
    {
     "data": {
      "image/png": "[encoded data removed]",
      "text/plain": [
       "<Figure size 432x288 with 1 Axes>"
      ]
     },
     "metadata": {
      "needs_background": "light"
     },
     "output_type": "display_data"
    }
   ],
   "source": [
    "plt.imshow(image[:,:,0], cmap = 'gray', vmin=0, vmax=255)\n",
    "plt.show()"
   ]
  },
  {
   "cell_type": "code",
   "execution_count": 62,
   "id": "4c36038c",
   "metadata": {},
   "outputs": [
    {
     "data": {
      "image/png": "[encoded data removed]",
      "text/plain": [
       "<Figure size 432x288 with 1 Axes>"
      ]
     },
     "metadata": {
      "needs_background": "light"
     },
     "output_type": "display_data"
    }
   ],
   "source": [
    "#depth map\n",
    "depth_image = imageio.imread(f'depth_map/aov_image_0{instance_num-3}.png')\n",
    "plt.imshow(depth_image, cmap = 'gray', vmin=0, vmax=255)\n",
    "plt.show()"
   ]
  },
  {
   "cell_type": "code",
   "execution_count": 74,
   "id": "bac27f1f",
   "metadata": {},
   "outputs": [
    {
     "name": "stdout",
     "output_type": "stream",
     "text": [
      "0 255\n",
      "0 99\n"
     ]
    }
   ],
   "source": [
    "print(np.min(instance_image[:,:,0]), np.max(instance_image[:,:,0]))\n",
    "print(np.min(depth_image[:,:,0]), np.max(depth_image[:,:,0]))"
   ]
  },
  {
   "cell_type": "code",
   "execution_count": null,
   "id": "10a2c471",
   "metadata": {},
   "outputs": [],
   "source": [
    "## Checking whether depth image and instance segmentation have same pixels filled"
   ]
  },
  {
   "cell_type": "code",
   "execution_count": 76,
   "id": "d9cb9ce4",
   "metadata": {},
   "outputs": [
    {
     "name": "stdout",
     "output_type": "stream",
     "text": [
      "4096 4096 4096\n"
     ]
    }
   ],
   "source": [
    "pixel_threshold = 10\n",
    "summed_for_comparison = np.sum((instance_image[:,:,0] > pixel_threshold) == (depth_image[:,:,0] > pixel_threshold))\n",
    "summed_for_comparison_inverse = np.sum((instance_image[:,:,0] <= pixel_threshold) == (depth_image[:,:,0] <= pixel_threshold))\n",
    "\n",
    "print(summed_for_comparison_inverse, summed_for_comparison, 64 * 64)"
   ]
  },
  {
   "cell_type": "code",
   "execution_count": 16,
   "id": "5e8cdd7d",
   "metadata": {},
   "outputs": [
    {
     "data": {
      "image/png": "[encoded data removed]",
      "text/plain": [
       "<Figure size 432x288 with 1 Axes>"
      ]
     },
     "metadata": {
      "needs_background": "light"
     },
     "output_type": "display_data"
    }
   ],
   "source": [
    "# Thresholding for masks segmentation and collecting \n",
    "instance_image = imageio.imread(f'full_12k_samples_dataset_3_objects/instances/Instance_{instance_num -1}.png')\n",
    "\n",
    "res_instance_image = (instance_image[:,:,0] > 0).astype('bool')\n",
    "plt.imshow(res_instance_image, cmap = 'gray', vmin=0, vmax=1)\n",
    "plt.show()"
   ]
  },
  {
   "cell_type": "code",
   "execution_count": 20,
   "id": "622a0e45",
   "metadata": {},
   "outputs": [],
   "source": [
    "# Thresholding for masks segmentation and collecting \n",
    "\n",
    "def get_instance_masks():\n",
    "    res_instance_masks = []\n",
    "    for image_path in glob.glob(\"full_12k_samples_dataset_3_objects/instances/*.png\"):\n",
    "        instance_image = imageio.imread(image_path)\n",
    "    #     instance_image = imageio.imread(f'images/instances/Instance_{instance_num}.png')\n",
    "        res_instance_image = (instance_image[:,:,0] > 0).astype('bool')\n",
    "\n",
    "        np.save(image_path.split(\".\")[0], res_instance_image)\n",
    "\n",
    "\n",
    "        res_instance_masks.append(res_instance_image)\n",
    "        \n",
    "    return res_instance_masks\n",
    "    \n",
    "res_instance_masks = get_instance_masks()"
   ]
  },
  {
   "cell_type": "code",
   "execution_count": 22,
   "id": "e3f19a40",
   "metadata": {},
   "outputs": [
    {
     "data": {
      "text/plain": [
       "130001"
      ]
     },
     "execution_count": 22,
     "metadata": {},
     "output_type": "execute_result"
    }
   ],
   "source": [
    "len(res_instance_masks)\n"
   ]
  },
  {
   "cell_type": "code",
   "execution_count": 179,
   "id": "19cd52a9",
   "metadata": {},
   "outputs": [
    {
     "data": {
      "text/plain": [
       "734"
      ]
     },
     "execution_count": 179,
     "metadata": {},
     "output_type": "execute_result"
    }
   ],
   "source": [
    "len(res_instance_masks)"
   ]
  },
  {
   "cell_type": "markdown",
   "id": "7dafced1",
   "metadata": {},
   "source": [
    "### Depth recording is in advance for 3 frames, make sure depth_image[i - 3] is always included "
   ]
  },
  {
   "cell_type": "markdown",
   "id": "617259f5",
   "metadata": {},
   "source": [
    "## Getting RGB images"
   ]
  },
  {
   "cell_type": "code",
   "execution_count": null,
   "id": "1c722526",
   "metadata": {},
   "outputs": [],
   "source": [
    "!ls images/rgb"
   ]
  },
  {
   "cell_type": "code",
   "execution_count": 112,
   "id": "7a4d9cd4",
   "metadata": {},
   "outputs": [
    {
     "data": {
      "image/png": "[encoded data removed]",
      "text/plain": [
       "<Figure size 432x288 with 1 Axes>"
      ]
     },
     "metadata": {
      "needs_background": "light"
     },
     "output_type": "display_data"
    }
   ],
   "source": [
    "# Thresholding for masks segmentation and collecting \n",
    "rgb_image = imageio.imread(f'images/rgb/rgb_{instance_num}.png')\n",
    "\n",
    "plt.imshow(rgb_image, cmap = 'gray', vmin=0, vmax=255)\n",
    "plt.show()"
   ]
  },
  {
   "cell_type": "code",
   "execution_count": 83,
   "id": "6ba9db1f",
   "metadata": {},
   "outputs": [],
   "source": [
    "## Collecting for 3 foreground objects their values, and 5 values for background objects"
   ]
  },
  {
   "cell_type": "markdown",
   "id": "2a7c26cc",
   "metadata": {},
   "source": [
    "### Position, orientation and scale also needs to be collected"
   ]
  },
  {
   "cell_type": "markdown",
   "id": "c872ec14",
   "metadata": {},
   "source": [
    "#### Scale is always 1, orientation no idea how tf to set this"
   ]
  },
  {
   "cell_type": "code",
   "execution_count": 116,
   "id": "25853557",
   "metadata": {},
   "outputs": [
    {
     "name": "stdout",
     "output_type": "stream",
     "text": [
      "images/logs/objects_relative_to_cam.json\n"
     ]
    }
   ],
   "source": [
    "!ls images/logs/objects_relative_to_cam.json"
   ]
  },
  {
   "cell_type": "code",
   "execution_count": 113,
   "id": "44311cd1",
   "metadata": {},
   "outputs": [],
   "source": [
    "import json"
   ]
  },
  {
   "cell_type": "code",
   "execution_count": 117,
   "id": "5884497b",
   "metadata": {},
   "outputs": [],
   "source": [
    "with open('images/logs/objects_relative_to_cam.json') as f:\n",
    "  data = json.load(f)"
   ]
  },
  {
   "cell_type": "code",
   "execution_count": 121,
   "id": "a72a8983",
   "metadata": {},
   "outputs": [
    {
     "data": {
      "text/plain": [
       "82"
      ]
     },
     "execution_count": 121,
     "metadata": {},
     "output_type": "execute_result"
    }
   ],
   "source": [
    "len(data['contentList'])"
   ]
  },
  {
   "cell_type": "code",
   "execution_count": 124,
   "id": "91e883c4",
   "metadata": {},
   "outputs": [
    {
     "name": "stdout",
     "output_type": "stream",
     "text": [
      "(735, 64, 64) (734, 64, 64)\n"
     ]
    }
   ],
   "source": [
    "print(np.array(depth_np_images).shape, np.array(res_instance_masks).shape)"
   ]
  },
  {
   "cell_type": "code",
   "execution_count": 126,
   "id": "1fd63112",
   "metadata": {},
   "outputs": [
    {
     "data": {
      "text/plain": [
       "81.55555555555556"
      ]
     },
     "execution_count": 126,
     "metadata": {},
     "output_type": "execute_result"
    }
   ],
   "source": [
    "734 / (5 + 3 + 1)"
   ]
  },
  {
   "cell_type": "code",
   "execution_count": 129,
   "id": "adf628fd",
   "metadata": {},
   "outputs": [
    {
     "data": {
      "text/plain": [
       "9"
      ]
     },
     "execution_count": 129,
     "metadata": {},
     "output_type": "execute_result"
    }
   ],
   "source": [
    "data['contentList'][1]['index']"
   ]
  },
  {
   "cell_type": "code",
   "execution_count": 132,
   "id": "075ae410",
   "metadata": {},
   "outputs": [
    {
     "name": "stdout",
     "output_type": "stream",
     "text": [
      "623 69.22222222222223\n"
     ]
    }
   ],
   "source": [
    "print(instance_num, instance_num / (5 + 3 + 1))"
   ]
  },
  {
   "cell_type": "code",
   "execution_count": 147,
   "id": "ae0e98eb",
   "metadata": {},
   "outputs": [
    {
     "name": "stdout",
     "output_type": "stream",
     "text": [
      "621\n"
     ]
    },
    {
     "data": {
      "image/png": "[encoded data removed]",
      "text/plain": [
       "<Figure size 432x288 with 1 Axes>"
      ]
     },
     "metadata": {
      "needs_background": "light"
     },
     "output_type": "display_data"
    }
   ],
   "source": [
    "found_base_image = data['contentList'][69]['index']\n",
    "\n",
    "print(found_base_image)\n",
    "rgb_image = imageio.imread(f'images/rgb/rgb_{found_base_image + 1}.png')\n",
    "\n",
    "plt.imshow(rgb_image, vmin=0, vmax=255)\n",
    "plt.show()"
   ]
  },
  {
   "cell_type": "code",
   "execution_count": 148,
   "id": "5aacb3aa",
   "metadata": {},
   "outputs": [
    {
     "data": {
      "text/plain": [
       "{'foregroundObjects': [{'position': [-1.0610055923461914,\n",
       "    0.18277621269226074,\n",
       "    5.136577129364014],\n",
       "   'type': 'cylinder(Clone)',\n",
       "   'index': 0},\n",
       "  {'position': [0.6930861473083496, 0.5332804918289185, 5.643669128417969],\n",
       "   'type': 'sphere(Clone)',\n",
       "   'index': 1},\n",
       "  {'position': [-0.39071953296661377, 1.159210205078125, 6.827811241149902],\n",
       "   'type': 'cube(Clone)',\n",
       "   'index': 2}],\n",
       " 'backgroundObjects': [{'position': [-0.9856504201889038,\n",
       "    -0.5538797378540039,\n",
       "    4.7606520652771],\n",
       "   'type': 'Plane',\n",
       "   'index': 0},\n",
       "  {'position': [0.7373255491256714, -2.467745304107666, 0.44573962688446045],\n",
       "   'type': 'wall1',\n",
       "   'index': 1},\n",
       "  {'position': [-2.7086262702941895, 2.226011276245117, 8.575565338134766],\n",
       "   'type': 'wall2',\n",
       "   'index': 2},\n",
       "  {'position': [3.708110809326172, 0.7406158447265625, 6.00278377532959],\n",
       "   'type': 'wall3',\n",
       "   'index': 3},\n",
       "  {'position': [-5.6794114112854, -0.9823493957519531, 3.0185208320617676],\n",
       "   'type': 'wall4',\n",
       "   'index': 4}],\n",
       " 'index': 621}"
      ]
     },
     "execution_count": 148,
     "metadata": {},
     "output_type": "execute_result"
    }
   ],
   "source": [
    "data['contentList'][69]"
   ]
  },
  {
   "cell_type": "markdown",
   "id": "daadb5a9",
   "metadata": {},
   "source": [
    "## We see that  found_base_image = data['contentList'][i]['index'] can be used to get position found_base_image+1 from where to start drawing"
   ]
  },
  {
   "cell_type": "markdown",
   "id": "25cc971e",
   "metadata": {},
   "source": [
    "### From here we will iterate through obj_pos to get all images, and all objects and background segments"
   ]
  },
  {
   "cell_type": "code",
   "execution_count": 274,
   "id": "206c87b9",
   "metadata": {},
   "outputs": [],
   "source": [
    "current_i = 1\n",
    "full_frame_index = data['contentList'][current_i]['index']\n",
    "\n",
    "sample_frames = {'rgb_in' : [], 'rgb_gt' : [], 'depth_gt' : [], 'fore_msk_gt' : [], 'fore_z_extr_gt' : [], 'back_msk_gt' : [], 'back_z_extr_gt' : []}\n"
   ]
  },
  {
   "cell_type": "code",
   "execution_count": 275,
   "id": "5a61600b",
   "metadata": {},
   "outputs": [
    {
     "data": {
      "image/png": "[encoded data removed]",
      "text/plain": [
       "<Figure size 432x288 with 1 Axes>"
      ]
     },
     "metadata": {
      "needs_background": "light"
     },
     "output_type": "display_data"
    },
    {
     "name": "stdout",
     "output_type": "stream",
     "text": [
      "(1, 64, 64, 3)\n"
     ]
    }
   ],
   "source": [
    "#Reading full RGB image\n",
    "rgb_image = imageio.imread(f'images/rgb/rgb_{full_frame_index + 1}.png')\n",
    "\n",
    "plt.imshow(rgb_image[:,:,0:3], vmin=0, vmax=255)\n",
    "plt.show()\n",
    "\n",
    "#Goal : rgb_in & rgb_gt : [B, 1, 64, 64, 3]\n",
    "\n",
    "print(rgb_image[None,:,:,0:3].shape)\n",
    "\n",
    "sample_frames['rgb_in'].append(rgb_image[None,:,:,0:3])\n",
    "sample_frames['rgb_gt'].append(rgb_image[None,:,:,0:3])"
   ]
  },
  {
   "cell_type": "code",
   "execution_count": 276,
   "id": "9b109916",
   "metadata": {},
   "outputs": [
    {
     "data": {
      "text/plain": [
       "'0006'"
      ]
     },
     "execution_count": 276,
     "metadata": {},
     "output_type": "execute_result"
    }
   ],
   "source": [
    "format(full_frame_index-3, '04')"
   ]
  },
  {
   "cell_type": "code",
   "execution_count": 277,
   "id": "8fb8d09f",
   "metadata": {},
   "outputs": [
    {
     "data": {
      "image/png": "[encoded data removed]",
      "text/plain": [
       "<Figure size 432x288 with 1 Axes>"
      ]
     },
     "metadata": {
      "needs_background": "light"
     },
     "output_type": "display_data"
    },
    {
     "name": "stdout",
     "output_type": "stream",
     "text": [
      "(1, 64, 64)\n"
     ]
    }
   ],
   "source": [
    "#Reading depth map\n",
    "depth_image = imageio.imread(\"depth_map/aov_image_\" + format(full_frame_index-2, '04') + \".png\")\n",
    "plt.imshow(depth_image[:,:,0], cmap = 'gray', vmin=0, vmax=255)\n",
    "plt.show()\n",
    "\n",
    "\n",
    "#Goal : depth_gt [B, 1, 64, 64]\n",
    "\n",
    "print(depth_image[None,:,:,0].shape)\n",
    "\n",
    "sample_frames['depth_gt'].append(depth_image[None,:,:,0])"
   ]
  },
  {
   "cell_type": "code",
   "execution_count": 278,
   "id": "c91c28ea",
   "metadata": {},
   "outputs": [
    {
     "data": {
      "text/plain": [
       "(5,)"
      ]
     },
     "execution_count": 278,
     "metadata": {},
     "output_type": "execute_result"
    }
   ],
   "source": [
    "current_object_on_index_i = 0\n",
    "object_latent_variable = np.array(data['contentList'][current_i]['foregroundObjects'][current_object_on_index_i]['position'] + [0.0, 1.0])\n",
    "\n",
    "object_latent_variable.shape"
   ]
  },
  {
   "cell_type": "code",
   "execution_count": 279,
   "id": "3c41336a",
   "metadata": {},
   "outputs": [],
   "source": [
    "foreground_len = len(data['contentList'][current_i]['foregroundObjects'])\n",
    "background_len = len(data['contentList'][current_i]['backgroundObjects'])"
   ]
  },
  {
   "cell_type": "code",
   "execution_count": 280,
   "id": "83b9bd82",
   "metadata": {},
   "outputs": [],
   "source": [
    "foreground_mask_instances = []\n",
    "foreground_latent_instances = []\n",
    "for i in range(foreground_len):\n",
    "    single_mask_instance = imageio.imread(f'images/instances/Instance_{full_frame_index+2+i}.png')\n",
    "    restructured_single_mask_instance = (single_mask_instance[:,:,:] > 0)*255\n",
    "    foreground_mask_instances.append(restructured_single_mask_instance)\n",
    "    \n",
    "    \n",
    "    orientation = 0.0\n",
    "    scale = 0.0\n",
    "    \n",
    "    object_latent_variable = np.array(data['contentList'][current_i]['foregroundObjects'][i]['position'] + [orientation, scale])\n",
    "    foreground_latent_instances.append(object_latent_variable)"
   ]
  },
  {
   "cell_type": "code",
   "execution_count": 281,
   "id": "63a3a3be",
   "metadata": {},
   "outputs": [
    {
     "name": "stdout",
     "output_type": "stream",
     "text": [
      "(3, 1, 64, 64)\n",
      "(3, 1, 5)\n"
     ]
    },
    {
     "data": {
      "image/png": "[encoded data removed]",
      "text/plain": [
       "<Figure size 432x288 with 3 Axes>"
      ]
     },
     "metadata": {
      "needs_background": "light"
     },
     "output_type": "display_data"
    }
   ],
   "source": [
    "## Foreground Objects\n",
    "fig, axs = plt.subplots(1, 3)\n",
    "\n",
    "axs[0].imshow(foreground_mask_instances[0], cmap = 'gray', vmin=0, vmax=255)\n",
    "axs[0].set_title('First object')\n",
    "axs[1].imshow(foreground_mask_instances[1], cmap = 'gray', vmin=0, vmax=255)\n",
    "axs[1].set_title('Second object')\n",
    "axs[2].imshow(foreground_mask_instances[2], cmap = 'gray', vmin=0, vmax=255)\n",
    "axs[2].set_title('Third object')\n",
    "\n",
    "\n",
    "#Goal 'fore_msk_gt' [B, N, 1, 64, 64]\n",
    "\n",
    "print(np.array(foreground_mask_instances)[:,None,:,:,0].shape)\n",
    "\n",
    "sample_frames['fore_msk_gt'].append(np.array(foreground_mask_instances)[:,None,:,:,0])\n",
    "\n",
    "#Goal 'fore_z_extr_gt' [B,N,1,5]\n",
    "\n",
    "print(np.array(np.array(foreground_latent_instances))[:,None,:].shape)\n",
    "\n",
    "sample_frames['fore_z_extr_gt'].append(np.array(np.array(foreground_latent_instances))[:,None,:])"
   ]
  },
  {
   "cell_type": "code",
   "execution_count": 282,
   "id": "21c59323",
   "metadata": {},
   "outputs": [],
   "source": [
    "background_mask_instances = []\n",
    "background_latent_instances = []\n",
    "\n",
    "for i in range(background_len):\n",
    "    single_mask_instance = imageio.imread(f'images/instances/Instance_{full_frame_index+2+foreground_len + i}.png')\n",
    "    restructured_single_mask_instance = (single_mask_instance[:,:,:] > 0)*255\n",
    "    background_mask_instances.append(restructured_single_mask_instance)\n",
    "    \n",
    "    orientation = 0.0\n",
    "    scale = 0.0\n",
    "    \n",
    "    object_latent_variable = np.array(data['contentList'][current_i]['backgroundObjects'][i]['position'] + [orientation, scale])\n",
    "    background_latent_instances.append(object_latent_variable)\n",
    "    "
   ]
  },
  {
   "cell_type": "code",
   "execution_count": 283,
   "id": "afcae993",
   "metadata": {},
   "outputs": [
    {
     "name": "stdout",
     "output_type": "stream",
     "text": [
      "(5, 1, 64, 64)\n",
      "(5, 1, 5)\n"
     ]
    },
    {
     "data": {
      "image/png": "[encoded data removed]",
      "text/plain": [
       "<Figure size 432x288 with 5 Axes>"
      ]
     },
     "metadata": {
      "needs_background": "light"
     },
     "output_type": "display_data"
    }
   ],
   "source": [
    "## Background Objects\n",
    "fig, axs = plt.subplots(1, 5)\n",
    "\n",
    "\n",
    "axs[0].imshow(background_mask_instances[0], cmap = 'gray', vmin=0, vmax=255)\n",
    "axs[0].set_title('First object')\n",
    "axs[1].imshow(background_mask_instances[1], cmap = 'gray', vmin=0, vmax=255)\n",
    "axs[1].set_title('Second object')\n",
    "axs[2].imshow(background_mask_instances[2], cmap = 'gray', vmin=0, vmax=255)\n",
    "axs[2].set_title('Third object')\n",
    "axs[3].imshow(background_mask_instances[3], cmap = 'gray', vmin=0, vmax=255)\n",
    "axs[3].set_title('Fourth object')\n",
    "axs[4].imshow(background_mask_instances[4], cmap = 'gray', vmin=0, vmax=255)\n",
    "axs[4].set_title('Fifth object')\n",
    "\n",
    "\n",
    "#Goal 'back_msk_gt' [B, N, 1, 64, 64]\n",
    "\n",
    "print(np.array(background_mask_instances)[:,None,:,:,0].shape)\n",
    "\n",
    "sample_frames['back_msk_gt'].append(np.array(background_mask_instances)[:,None,:,:,0])\n",
    "\n",
    "#Goal 'back_z_extr_gt' [B,N,1,5]\n",
    "\n",
    "print(np.array(background_latent_instances)[:,None,:].shape)\n",
    "\n",
    "sample_frames['back_z_extr_gt'].append(np.array(background_latent_instances)[:,None,:])\n"
   ]
  },
  {
   "cell_type": "code",
   "execution_count": 284,
   "id": "5ce083b6",
   "metadata": {},
   "outputs": [
    {
     "name": "stdout",
     "output_type": "stream",
     "text": [
      "(3, 64, 64, 4)\n"
     ]
    }
   ],
   "source": [
    "print(np.array(foreground_mask_instances).shape)"
   ]
  },
  {
   "cell_type": "code",
   "execution_count": 285,
   "id": "0caaf2bd",
   "metadata": {},
   "outputs": [
    {
     "data": {
      "text/plain": [
       "dict_keys(['rgb_in', 'rgb_gt', 'depth_gt', 'fore_msk_gt', 'fore_z_extr_gt', 'back_msk_gt', 'back_z_extr_gt'])"
      ]
     },
     "execution_count": 285,
     "metadata": {},
     "output_type": "execute_result"
    }
   ],
   "source": [
    "sample_frames.keys()"
   ]
  },
  {
   "cell_type": "markdown",
   "id": "166ea6e4",
   "metadata": {},
   "source": [
    "## Finally , go through all samples (restart kernel from here)"
   ]
  },
  {
   "cell_type": "code",
   "execution_count": 1,
   "id": "e776847f",
   "metadata": {},
   "outputs": [],
   "source": [
    "import json\n",
    "import numpy as np\n",
    "\n",
    "from scipy import misc\n",
    "import glob\n",
    "import imageio"
   ]
  },
  {
   "cell_type": "code",
   "execution_count": 2,
   "id": "9f673392",
   "metadata": {},
   "outputs": [],
   "source": [
    "def get_absolute_depth_image(image,near = 0.8, far = 15):\n",
    "    k1 = (far + near) / (far - near)\n",
    "    k2 = (- 2.0 * far * near) / (far - near)\n",
    "\n",
    "    divisor = np.max(image[:,:,0]) if np.max(image[:,:,0]) != 0 else 127.0 \n",
    "    res = k2 / ((image[:,:,0] / divisor) - k1)  \n",
    "\n",
    "\n",
    "    return res"
   ]
  },
  {
   "cell_type": "code",
   "execution_count": 3,
   "id": "e1b6074f",
   "metadata": {},
   "outputs": [
    {
     "name": "stdout",
     "output_type": "stream",
     "text": [
      "Dataset294cada5-594a-427e-bd62-4bfea69756ba  depth_map\tinstances  logs  rgb\n"
     ]
    }
   ],
   "source": [
    "!ls full_12k_samples_dataset_3_objects"
   ]
  },
  {
   "cell_type": "code",
   "execution_count": 8,
   "id": "04a84ba6",
   "metadata": {},
   "outputs": [
    {
     "name": "stdout",
     "output_type": "stream",
     "text": [
      "100/12000, 0.008333333333333333%\n",
      "200/12000, 0.016666666666666666%\n",
      "300/12000, 0.025%\n",
      "400/12000, 0.03333333333333333%\n",
      "500/12000, 0.041666666666666664%\n",
      "600/12000, 0.05%\n",
      "700/12000, 0.058333333333333334%\n",
      "800/12000, 0.06666666666666667%\n",
      "900/12000, 0.075%\n",
      "1000/12000, 0.08333333333333333%\n",
      "1100/12000, 0.09166666666666666%\n",
      "1200/12000, 0.1%\n",
      "1300/12000, 0.10833333333333334%\n",
      "1400/12000, 0.11666666666666667%\n",
      "1500/12000, 0.125%\n",
      "1600/12000, 0.13333333333333333%\n",
      "1700/12000, 0.14166666666666666%\n",
      "1800/12000, 0.15%\n",
      "1900/12000, 0.15833333333333333%\n",
      "2000/12000, 0.16666666666666666%\n",
      "2100/12000, 0.175%\n",
      "2200/12000, 0.18333333333333332%\n",
      "2300/12000, 0.19166666666666668%\n",
      "2400/12000, 0.2%\n",
      "2500/12000, 0.20833333333333334%\n",
      "2600/12000, 0.21666666666666667%\n",
      "2700/12000, 0.225%\n",
      "2800/12000, 0.23333333333333334%\n",
      "2900/12000, 0.24166666666666667%\n",
      "3000/12000, 0.25%\n",
      "3100/12000, 0.25833333333333336%\n",
      "3200/12000, 0.26666666666666666%\n",
      "3300/12000, 0.275%\n",
      "3400/12000, 0.2833333333333333%\n",
      "3500/12000, 0.2916666666666667%\n",
      "3600/12000, 0.3%\n",
      "3700/12000, 0.30833333333333335%\n",
      "3800/12000, 0.31666666666666665%\n",
      "3900/12000, 0.325%\n",
      "4000/12000, 0.3333333333333333%\n",
      "4100/12000, 0.3416666666666667%\n",
      "4200/12000, 0.35%\n",
      "4300/12000, 0.35833333333333334%\n",
      "4400/12000, 0.36666666666666664%\n",
      "4500/12000, 0.375%\n",
      "4600/12000, 0.38333333333333336%\n",
      "4700/12000, 0.39166666666666666%\n",
      "4800/12000, 0.4%\n",
      "4900/12000, 0.4083333333333333%\n",
      "5000/12000, 0.4166666666666667%\n",
      "5100/12000, 0.425%\n",
      "5200/12000, 0.43333333333333335%\n",
      "5300/12000, 0.44166666666666665%\n",
      "5400/12000, 0.45%\n",
      "5500/12000, 0.4583333333333333%\n",
      "5600/12000, 0.4666666666666667%\n",
      "5700/12000, 0.475%\n",
      "5800/12000, 0.48333333333333334%\n",
      "5900/12000, 0.49166666666666664%\n",
      "6000/12000, 0.5%\n",
      "6100/12000, 0.5083333333333333%\n",
      "6200/12000, 0.5166666666666667%\n",
      "6300/12000, 0.525%\n",
      "6400/12000, 0.5333333333333333%\n",
      "6500/12000, 0.5416666666666666%\n",
      "6600/12000, 0.55%\n",
      "6700/12000, 0.5583333333333333%\n",
      "6800/12000, 0.5666666666666667%\n",
      "6900/12000, 0.575%\n",
      "7000/12000, 0.5833333333333334%\n",
      "7100/12000, 0.5916666666666667%\n",
      "7200/12000, 0.6%\n",
      "7300/12000, 0.6083333333333333%\n",
      "7400/12000, 0.6166666666666667%\n",
      "7500/12000, 0.625%\n",
      "7600/12000, 0.6333333333333333%\n",
      "7700/12000, 0.6416666666666667%\n",
      "7800/12000, 0.65%\n",
      "7900/12000, 0.6583333333333333%\n",
      "8000/12000, 0.6666666666666666%\n",
      "8100/12000, 0.675%\n",
      "8200/12000, 0.6833333333333333%\n",
      "8300/12000, 0.6916666666666667%\n",
      "8400/12000, 0.7%\n",
      "8500/12000, 0.7083333333333334%\n",
      "8600/12000, 0.7166666666666667%\n",
      "8700/12000, 0.725%\n",
      "8800/12000, 0.7333333333333333%\n",
      "8900/12000, 0.7416666666666667%\n",
      "9000/12000, 0.75%\n",
      "9100/12000, 0.7583333333333333%\n",
      "9200/12000, 0.7666666666666667%\n",
      "9300/12000, 0.775%\n",
      "9400/12000, 0.7833333333333333%\n",
      "9500/12000, 0.7916666666666666%\n",
      "9600/12000, 0.8%\n",
      "9700/12000, 0.8083333333333333%\n",
      "9800/12000, 0.8166666666666667%\n",
      "9900/12000, 0.825%\n",
      "10000/12000, 0.8333333333333334%\n",
      "10100/12000, 0.8416666666666667%\n",
      "10200/12000, 0.85%\n",
      "10300/12000, 0.8583333333333333%\n",
      "10400/12000, 0.8666666666666667%\n",
      "10500/12000, 0.875%\n",
      "10600/12000, 0.8833333333333333%\n",
      "10700/12000, 0.8916666666666667%\n",
      "10800/12000, 0.9%\n",
      "10900/12000, 0.9083333333333333%\n",
      "11000/12000, 0.9166666666666666%\n",
      "11100/12000, 0.925%\n",
      "11200/12000, 0.9333333333333333%\n",
      "11300/12000, 0.9416666666666667%\n",
      "11400/12000, 0.95%\n",
      "11500/12000, 0.9583333333333334%\n",
      "11600/12000, 0.9666666666666667%\n",
      "11700/12000, 0.975%\n",
      "11800/12000, 0.9833333333333333%\n",
      "11900/12000, 0.9916666666666667%\n",
      "12000/12000, 1.0%\n",
      "12100/12000, 1.0083333333333333%\n",
      "12200/12000, 1.0166666666666666%\n",
      "12300/12000, 1.025%\n",
      "12400/12000, 1.0333333333333334%\n",
      "12500/12000, 1.0416666666666667%\n",
      "12600/12000, 1.05%\n",
      "12700/12000, 1.0583333333333333%\n",
      "12800/12000, 1.0666666666666667%\n",
      "12900/12000, 1.075%\n",
      "13000/12000, 1.0833333333333333%\n",
      "13100/12000, 1.0916666666666666%\n",
      "13200/12000, 1.1%\n",
      "13300/12000, 1.1083333333333334%\n",
      "13400/12000, 1.1166666666666667%\n",
      "13500/12000, 1.125%\n",
      "13600/12000, 1.1333333333333333%\n",
      "13700/12000, 1.1416666666666666%\n",
      "13800/12000, 1.15%\n",
      "13900/12000, 1.1583333333333334%\n",
      "14000/12000, 1.1666666666666667%\n",
      "14100/12000, 1.175%\n",
      "14200/12000, 1.1833333333333333%\n",
      "14300/12000, 1.1916666666666667%\n",
      "14400/12000, 1.2%\n"
     ]
    }
   ],
   "source": [
    "sample_frames = {'rgb_in' : [], 'rgb_gt' : [], 'depth_gt' : [], 'fore_msk_gt' : [], 'fore_z_extr_gt' : [], 'back_msk_gt' : [], 'back_z_extr_gt' : []}\n",
    "\n",
    "path = 'full_12k_samples_dataset_3_objects'\n",
    "with open(f'{path}/logs/objects_relative_to_cam.json') as f:\n",
    "  data = json.load(f)\n",
    "\n",
    "frame_count = len(data['contentList'])\n",
    "\n",
    "for current_i_frame in range(1,frame_count-1):\n",
    "    full_frame_index = data['contentList'][current_i_frame]['index']\n",
    "\n",
    "    foreground_len = len(data['contentList'][current_i_frame]['foregroundObjects'])\n",
    "    background_len = len(data['contentList'][current_i_frame]['backgroundObjects'])\n",
    "    \n",
    "    #Reading full RGB image\n",
    "    rgb_image = imageio.imread(f'{path}/rgb/rgb_{full_frame_index + 1}.png')\n",
    "    #Goal : rgb_in & rgb_gt : [B, 1, 64, 64, 3]\n",
    "    #print(rgb_image[None,:,:,0:3].shape)\n",
    "\n",
    "    sample_frames['rgb_in'].append(rgb_image[None,:,:,0:3])\n",
    "    sample_frames['rgb_gt'].append(rgb_image[None,:,:,0:3])\n",
    "    \n",
    "\n",
    "    #Reading depth map\n",
    "    depth_image = imageio.imread(f'{path}/depth_map/aov_image_' + format(full_frame_index-2, '04') + \".png\")\n",
    "    absolute_depth_image = get_absolute_depth_image(depth_image).astype('float32')\n",
    "    \n",
    "    #Goal : depth_gt [B, 1, 64, 64]\n",
    "\n",
    "    sample_frames['depth_gt'].append(absolute_depth_image[None,:,:,None])\n",
    "    \n",
    "    foreground_mask_instances = []\n",
    "    foreground_latent_instances = []\n",
    "    for current_object in range(foreground_len):\n",
    "        single_mask_instance = imageio.imread(f'{path}/instances/Instance_{full_frame_index+2+current_object}.png')\n",
    "        restructured_single_mask_instance = (single_mask_instance[:,:,:] > 0).astype('bool')\n",
    "        foreground_mask_instances.append(restructured_single_mask_instance)\n",
    "\n",
    "\n",
    "        orientation = data['contentList'][current_i_frame]['foregroundObjects'][current_object]['orientation']\n",
    "        scale = data['contentList'][current_i_frame]['foregroundObjects'][current_object]['scale']\n",
    "\n",
    "        object_latent_variable = np.array(data['contentList'][current_i_frame]['foregroundObjects'][current_object]['position'] + [orientation, scale])\n",
    "        foreground_latent_instances.append(object_latent_variable)\n",
    "    \n",
    "    #Goal 'fore_msk_gt' [B, N, 1, 64, 64]\n",
    "\n",
    "    sample_frames['fore_msk_gt'].append(np.array(foreground_mask_instances)[:,None,:,:,0])\n",
    "    \n",
    "    #Goal 'fore_z_extr_gt' [B,N,1,5]\n",
    "\n",
    "    sample_frames['fore_z_extr_gt'].append(np.array(foreground_latent_instances)[:,None,:])\n",
    "    \n",
    "    \n",
    "    background_mask_instances = []\n",
    "    background_latent_instances = []\n",
    "\n",
    "    for current_object in range(background_len):\n",
    "        single_mask_instance = imageio.imread(f'{path}/instances/Instance_{full_frame_index+2+foreground_len + current_object}.png')\n",
    "        restructured_single_mask_instance = (single_mask_instance[:,:,:] > 0).astype('bool')\n",
    "        background_mask_instances.append(restructured_single_mask_instance)\n",
    "\n",
    "        orientation = data['contentList'][current_i_frame]['backgroundObjects'][current_object]['orientation']\n",
    "        scale = data['contentList'][current_i_frame]['backgroundObjects'][current_object]['scale']\n",
    "\n",
    "        object_latent_variable = np.array(data['contentList'][current_i_frame]['backgroundObjects'][current_object]['position'] + [orientation, scale])\n",
    "        background_latent_instances.append(object_latent_variable)\n",
    "    \n",
    "    \n",
    "    #Goal 'back_msk_gt' [B, N, 1, 64, 64]\n",
    "\n",
    "    sample_frames['back_msk_gt'].append(np.array(background_mask_instances)[:,None,:,:,0])\n",
    "\n",
    "    #Goal 'back_z_extr_gt' [B,N,1,5]\n",
    "\n",
    "    sample_frames['back_z_extr_gt'].append(np.array(background_latent_instances)[:,None,:])\n",
    "    \n",
    "    if(current_i_frame % 100 == 0):\n",
    "        print(f'{current_i_frame}/12000, {current_i_frame/12000}%')"
   ]
  },
  {
   "cell_type": "code",
   "execution_count": 5,
   "id": "011d4b5b",
   "metadata": {},
   "outputs": [
    {
     "name": "stdout",
     "output_type": "stream",
     "text": [
      "(14443, 1, 64, 64, 3)\n",
      "(14443, 1, 64, 64, 1)\n",
      "(14443, 3, 1, 64, 64)\n",
      "(14443, 3, 1, 5)\n",
      "(14443, 5, 1, 64, 64)\n",
      "(14443, 5, 1, 5)\n"
     ]
    }
   ],
   "source": [
    "    #Goal : rgb_in & rgb_gt : [B, 1, 64, 64, 3]\n",
    "print(np.array(sample_frames['rgb_in']).shape)\n",
    "    #Goal : depth_gt [B, 1, 64, 64]\n",
    "print(np.array(sample_frames['depth_gt']).shape)\n",
    "    #Goal 'fore_msk_gt' [B, N, 1, 64, 64]\n",
    "print(np.array(sample_frames['fore_msk_gt']).shape)\n",
    "    #Goal 'fore_z_extr_gt' [B,N,1,5]\n",
    "print(np.array(sample_frames['fore_z_extr_gt']).shape)\n",
    "    #Goal 'back_msk_gt' [B, N, 1, 64, 64]\n",
    "print(np.array(sample_frames['back_msk_gt']).shape)\n",
    "    #Goal 'back_z_extr_gt' [B,N,1,5]\n",
    "print(np.array(sample_frames['back_z_extr_gt']).shape)"
   ]
  },
  {
   "cell_type": "code",
   "execution_count": 7,
   "id": "19550224-dbf7-48b7-a436-b8628a73adaa",
   "metadata": {},
   "outputs": [
    {
     "data": {
      "text/plain": [
       "dtype('float64')"
      ]
     },
     "execution_count": 7,
     "metadata": {},
     "output_type": "execute_result"
    }
   ],
   "source": [
    "sample_frames['depth_gt'][0].dtype"
   ]
  },
  {
   "cell_type": "code",
   "execution_count": 23,
   "id": "74bc2656",
   "metadata": {},
   "outputs": [
    {
     "name": "stdout",
     "output_type": "stream",
     "text": [
      "(9000, 1, 64, 64, 3)\n",
      "(1000, 1, 64, 64, 3)\n",
      "(2500, 1, 64, 64, 3)\n",
      "(9000, 1, 64, 64, 3)\n",
      "(1000, 1, 64, 64, 3)\n",
      "(2500, 1, 64, 64, 3)\n",
      "(9000, 1, 64, 64, 1)\n",
      "(1000, 1, 64, 64, 1)\n",
      "(2500, 1, 64, 64, 1)\n",
      "(9000, 3, 1, 64, 64)\n",
      "(1000, 3, 1, 64, 64)\n",
      "(2500, 3, 1, 64, 64)\n",
      "(9000, 3, 1, 5)\n",
      "(1000, 3, 1, 5)\n",
      "(2500, 3, 1, 5)\n",
      "(9000, 5, 1, 64, 64)\n",
      "(1000, 5, 1, 64, 64)\n",
      "(2500, 5, 1, 64, 64)\n",
      "(9000, 5, 1, 5)\n",
      "(1000, 5, 1, 5)\n",
      "(2500, 5, 1, 5)\n"
     ]
    }
   ],
   "source": [
    "## Saving them\n",
    "split_ranges =  {'train' : (0,9000),'val' : (9000,10000), 'test' : (10000,12500)} \n",
    "\n",
    "for key,value in sample_frames.items():\n",
    "    for split_type, split_range  in split_ranges.items():\n",
    "        with open(f'{key}_{split_type}.npy', 'wb') as f:\n",
    "            save_value = np.array(value[split_range[0]:split_range[1]])\n",
    "            print(save_value.shape)\n",
    "            np.save(key + '_' + split_type, save_value)"
   ]
  },
  {
   "cell_type": "code",
   "execution_count": 24,
   "id": "f5d785ee",
   "metadata": {},
   "outputs": [
    {
     "name": "stdout",
     "output_type": "stream",
     "text": [
      "back_msk_gt_test.npy\t  fore_z_extr_gt_train.npy\n",
      "back_msk_gt_train.npy\t  fore_z_extr_gt_val.npy\n",
      "back_msk_gt_val.npy\t  full_12k_samples_dataset_3_objects\n",
      "back_z_extr_gt_test.npy   ObjectRoom\n",
      "back_z_extr_gt_train.npy  README.md\n",
      "back_z_extr_gt_val.npy\t  rgb_gt_test.npy\n",
      "depth_gt_test.npy\t  rgb_gt_train.npy\n",
      "depth_gt_train.npy\t  rgb_gt_val.npy\n",
      "depth_gt_val.npy\t  rgb_in_test.npy\n",
      "fore_msk_gt_test.npy\t  rgb_in_train.npy\n",
      "fore_msk_gt_train.npy\t  rgb_in_val.npy\n",
      "fore_msk_gt_val.npy\t  script.py\n",
      "fore_z_extr_gt_test.npy   Unity_recorder_preprocessing.ipynb\n"
     ]
    }
   ],
   "source": [
    "!ls"
   ]
  },
  {
   "cell_type": "code",
   "execution_count": null,
   "id": "410341d9-49df-46b8-bbaa-a535f4f21bfa",
   "metadata": {},
   "outputs": [],
   "source": []
  }
 ],
 "metadata": {
  "kernelspec": {
   "display_name": "Python 3",
   "language": "python",
   "name": "python3"
  },
  "language_info": {
   "codemirror_mode": {
    "name": "ipython",
    "version": 3
   },
   "file_extension": ".py",
   "mimetype": "text/x-python",
   "name": "python",
   "nbconvert_exporter": "python",
   "pygments_lexer": "ipython3",
   "version": "3.8.5"
  }
 },
 "nbformat": 4,
 "nbformat_minor": 5
}
